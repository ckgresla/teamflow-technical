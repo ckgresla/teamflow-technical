{
 "cells": [
  {
   "attachments": {},
   "cell_type": "markdown",
   "metadata": {},
   "source": [
    "# Miscbook -- For Experimenting w Functions\n"
   ]
  },
  {
   "cell_type": "code",
   "execution_count": null,
   "metadata": {},
   "outputs": [],
   "source": [
    "import os"
   ]
  },
  {
   "cell_type": "code",
   "execution_count": 14,
   "metadata": {},
   "outputs": [],
   "source": [
    "# Get Statistics from a Transcript (n people + n lines per person for a single file/transcript str)\n",
    "\n",
    "def transcript_stats(script: str=None):\n",
    "    # Case When script is path on disk\n",
    "    if os.path.exists(script):\n",
    "        file = open(script)\n",
    "        data = file.read()\n",
    "        data = data.split(\"\\n\")\n",
    "    # Else if not a path, assume passed string *is* the script\n",
    "    else:\n",
    "        data = script.split(\"\\n\") #assume string for transcript follows sample data format\n",
    "    \n",
    "    # Remove LITERAL duplicate strs + get number of speakers and info\n",
    "    data = set(data)\n",
    "    if \"\" in data:\n",
    "        data.remove(\"\") #remove the empty line chars\n",
    "    stats = {}\n",
    "\n",
    "    for seq in data:\n",
    "        speaker = seq.split(\":\")[0] #assuming that real data follows sample conventions\n",
    "        if speaker not in stats:\n",
    "            stats[speaker] = 0\n",
    "        else: \n",
    "            stats[speaker] += 1\n",
    "\n",
    "    stats[\"n_people\"] = len(stats) #number of folks in transcription str\n",
    "    return data, stats\n"
   ]
  },
  {
   "cell_type": "code",
   "execution_count": 15,
   "metadata": {},
   "outputs": [
    {
     "name": "stdout",
     "output_type": "stream",
     "text": [
      "transcripts/637cf23dcc7845331578f507.txt\n"
     ]
    }
   ],
   "source": [
    "# Run Transcription function on whole dir of files\n",
    "for dirpath, dirnames, filenames in os.walk(\"transcripts\"):\n",
    "    file_paths = [os.path.join(dirpath, f) for f in filenames]\n",
    "    res = []\n",
    "    for script in file_paths:\n",
    "        data, stats = transcript_stats(script)\n",
    "        res.append(stats)\n"
   ]
  },
  {
   "cell_type": "code",
   "execution_count": 16,
   "metadata": {},
   "outputs": [
    {
     "data": {
      "text/plain": [
       "[{'Client 2|Client 2': 95, 'Host 1': 66, 'n_people': 2}]"
      ]
     },
     "execution_count": 16,
     "metadata": {},
     "output_type": "execute_result"
    }
   ],
   "source": [
    "res"
   ]
  },
  {
   "cell_type": "code",
   "execution_count": null,
   "metadata": {},
   "outputs": [],
   "source": []
  }
 ],
 "metadata": {
  "kernelspec": {
   "display_name": "hf-nlp",
   "language": "python",
   "name": "python3"
  },
  "language_info": {
   "codemirror_mode": {
    "name": "ipython",
    "version": 3
   },
   "file_extension": ".py",
   "mimetype": "text/x-python",
   "name": "python",
   "nbconvert_exporter": "python",
   "pygments_lexer": "ipython3",
   "version": "3.8.13"
  },
  "orig_nbformat": 4,
  "vscode": {
   "interpreter": {
    "hash": "b54a5106b248d8c19fab31382543dbfa8c1a101fe3a5ba4f4c0597a96230c6f9"
   }
  }
 },
 "nbformat": 4,
 "nbformat_minor": 2
}
